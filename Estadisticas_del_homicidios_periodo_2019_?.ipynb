{
  "nbformat": 4,
  "nbformat_minor": 0,
  "metadata": {
    "colab": {
      "name": "Estadisticas del homicidios periodo 2019-?.ipynb",
      "provenance": [],
      "private_outputs": true,
      "authorship_tag": "ABX9TyMrELZENbuwAoVlQzui1cDR",
      "include_colab_link": true
    },
    "kernelspec": {
      "name": "python3",
      "display_name": "Python 3"
    },
    "accelerator": "GPU"
  },
  "cells": [
    {
      "cell_type": "markdown",
      "metadata": {
        "id": "view-in-github",
        "colab_type": "text"
      },
      "source": [
        "<a href=\"https://colab.research.google.com/github/filosoficaguilar/homicidios_sexenio_lopez_obrador/blob/master/Estadisticas_del_homicidios_periodo_2019_%3F.ipynb\" target=\"_parent\"><img src=\"https://colab.research.google.com/assets/colab-badge.svg\" alt=\"Open In Colab\"/></a>"
      ]
    },
    {
      "cell_type": "markdown",
      "metadata": {
        "id": "r2rsHXWV_b8f",
        "colab_type": "text"
      },
      "source": [
        "Toda la informacion presente es propiedad del gobierno de la republica mexicana, los datos son obtenidos directamente de http://www.informeseguridad.cns.gob.mx/ y procesados mediante python para la obtencion de datos estadisticos, el uso que se le de es responsabilidad de quien los use y no de quien lo esta programando.\n",
        "Lo datos son crudos y nada mas se obtienen y analizan, no existe modificacion alguna."
      ]
    },
    {
      "cell_type": "code",
      "metadata": {
        "id": "TvDhGTREAd4y",
        "colab_type": "code",
        "colab": {}
      },
      "source": [
        "! pip3 install tabula-py\n",
        "! pip install pyPdf2"
      ],
      "execution_count": 0,
      "outputs": []
    },
    {
      "cell_type": "code",
      "metadata": {
        "id": "5L68vgha_Ov9",
        "colab_type": "code",
        "colab": {}
      },
      "source": [
        "#IMPORTACION DE LIBRERIAS\n",
        "import re\n",
        "import json\n",
        "import requests\n",
        "import pandas as pd\n",
        "import matplotlib.pyplot as plt\n",
        "import webbrowser\n",
        "import PyPDF2\n",
        "from bs4 import BeautifulSoup #\n",
        "from tabula import read_pdf "
      ],
      "execution_count": 0,
      "outputs": []
    },
    {
      "cell_type": "code",
      "metadata": {
        "id": "6cB_KHGmACHn",
        "colab_type": "code",
        "colab": {}
      },
      "source": [
        "def datos(): \n",
        "    \n",
        "    url='http://www.informeseguridad.cns.gob.mx/'\n",
        "    resp=requests.get(url) \n",
        "      \n",
        "    cabeceras = [\"Fecha\", \"Homicidios dolosos Fuentes abiertas\"]\n",
        "    hv1 = []\n",
        "    cifrasTotales = []\n",
        "    fechas = []\n",
        "    \n",
        "    if resp.status_code==200: \n",
        "        \n",
        "        soup=BeautifulSoup(resp.text,'html.parser')     \n",
        "        \n",
        "        l=soup.find(\"tbody\") \n",
        "        \n",
        "        fullTable = l.findAll(\"a\")\n",
        "        \n",
        "        for row in fullTable:\n",
        "          if(\".pdf\" in row[\"href\"] and \"v2\" not in row[\"href\"]):\n",
        "            if(\"homicidios\" in row[\"href\"]):\n",
        "              hv1.append(row[\"href\"])              \n",
        "        \n",
        "        hv1.reverse()\n",
        "        \n",
        "        for i in hv1:\n",
        "          try:\n",
        "            url = 'http://www.informeseguridad.cns.gob.mx/'+i\n",
        "            dfs = read_pdf(url, pages = 'all',stream = True,output_format=\"json\")\n",
        "            dia = re.sub('[^0-9]', '', i)\n",
        "            print(dia[0:2]+\"/\"+dia[2:4]+\"/\"+dia[4:])\n",
        "            json.dumps(dfs)\n",
        "\n",
        "            try:\n",
        "              canDoIt = False\n",
        "              for totales in dfs[-1][\"data\"][-1]:\n",
        "\n",
        "                if(\"Total\" in totales and canDoIt == False):\n",
        "                  canDoIt = True\n",
        "                if(re.match(r\"[0-9]{2}\\s{0,1}[0-9]{0,5}\",totales[\"text\"])):\n",
        "                  dia = re.sub('[^0-9]', '', i)\n",
        "                  fechas.append(dia[0:2]+\"/\"+dia[2:4]+\"/\"+dia[4:])\n",
        "                  if(\" \" in totales[\"text\"]):\n",
        "                    val = totales[\"text\"].split(\" \")[0]\n",
        "                    cifrasTotales.append(int(val))\n",
        "                  else:\n",
        "                    cifrasTotales.append(int(totales[\"text\"]))\n",
        "                  break\n",
        "            except:\n",
        "              continue\n",
        "          except Exception as e: \n",
        "            print(e)\n",
        "            \n",
        "        plt.xlabel(\"Fechas\")\n",
        "        plt.xticks(rotation=90)\n",
        "        plt.ylabel(\"Cantidad de asesinatos por dia\")\n",
        "        plt.title(\"Cantidad de asesinatos en periodo 2019-?\")\n",
        "        plt.scatter(fechas,cifrasTotales)\n",
        "        plt.figure(figsize=(7.5,7.5))\n",
        "        plt.show()\n",
        "\n",
        "        dataset = pd.DataFrame(data = [fechas,cifrastotales], columns=cabeceras)\n",
        "        print(dataset)\n",
        "\n",
        "\n",
        "    else: \n",
        "        print(\"Error al conectar con la fuente\")\n",
        "    \n",
        "\n",
        "datos()"
      ],
      "execution_count": 0,
      "outputs": []
    }
  ]
}